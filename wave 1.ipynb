{
 "cells": [
  {
   "cell_type": "code",
   "execution_count": 1,
   "metadata": {},
   "outputs": [
    {
     "name": "stdout",
     "output_type": "stream",
     "text": [
      "39.666666666666664\n",
      "39.666666666666664\n"
     ]
    }
   ],
   "source": [
    "#lab1\n",
    "#Quiz: Average Electricity Bill\n",
    "#It's time to try a calculation in Python!\n",
    "# Write an expression that calculates the average of 23, 32 and 64\n",
    "# Place the expression in this print statement\n",
    "\n",
    "print((23+32+64)/3)\n",
    "\n",
    "#Using variable method\n",
    "a = 23\n",
    "b = 32\n",
    "c = 64\n",
    "d = (a+b+c) / 3\n",
    "print(d)\n",
    "\n"
   ]
  },
  {
   "cell_type": "code",
   "execution_count": 2,
   "metadata": {},
   "outputs": [
    {
     "name": "stdout",
     "output_type": "stream",
     "text": [
      "expected result: 10, actual result: None\n",
      "expected result: 7123.6902801, actual result: None\n"
     ]
    }
   ],
   "source": [
    "#lab1 of 2.1\n",
    "#Now it's your turn to work with variables. The comments in this quiz (the lines that begin with #) have instructions for creating and modifying variables. After each comment write a line of code that implements the instruction.\n",
    "\n",
    "#Note that this code uses scientific notation to define large numbers. 4.445e8 is equal to 4.445 * 10 ** 8 which is equal to 444500000.0.\n",
    "# Write your function here. Make sure to use \"population_density\" as the name of the fucntion. so, the test below works. \n",
    "\n",
    "def population_density(a,b):\n",
    "    pass\n",
    "# test cases for your function Dont change anything below this comment.\n",
    "\n",
    "test1 = population_density(10, 1)\n",
    "expected_result1 = 10\n",
    "print(\"expected result: {}, actual result: {}\".format(expected_result1, test1))\n",
    "\n",
    "test2 = population_density(864816, 121.4)\n",
    "expected_result2 = 7123.6902801\n",
    "print(\"expected result: {}, actual result: {}\".format(expected_result2, test2))"
   ]
  },
  {
   "cell_type": "code",
   "execution_count": 3,
   "metadata": {},
   "outputs": [
    {
     "name": "stdout",
     "output_type": "stream",
     "text": [
      "total tiles are: 98 tiles\n",
      "Left over tiles are : 102 tiles\n"
     ]
    }
   ],
   "source": [
    "#lab1 of 2\n",
    "#Quiz: Calculate\n",
    "#In this quiz you're going to do some calculations for a tiler. Two parts of a floor need tiling. One part is 9 tiles wide by 7 tiles long, the other is 5 tiles wide by 7 tiles long. Tiles come in packages of 6.\n",
    "\n",
    "#1. How many tiles are needed?\n",
    "#2. You buy 17 packages of tiles containing 6 tiles each. How many tiles will be left over?\n",
    "\n",
    "\n",
    "# Fill this in with an expression that calculates how many tiles are needed.\n",
    "first_tile = 9*7\n",
    "second_tile = 5*7\n",
    "total_tiles = first_tile + second_tile\n",
    "print(f\"total tiles are: {total_tiles} tiles\")\n",
    "\n",
    "# Fill this in with an expression that calculates how many tiles will be left over.\n",
    "new_packages = 17*6\n",
    "left_over = new_packages - total_tiles\n",
    "print(\"Left over tiles are : {} tiles\".format(new_packages))"
   ]
  },
  {
   "cell_type": "code",
   "execution_count": 4,
   "metadata": {},
   "outputs": [
    {
     "name": "stdout",
     "output_type": "stream",
     "text": [
      "448126250.0\n"
     ]
    }
   ],
   "source": [
    "#lab1 of 3\n",
    "#Note that this code uses scientific notation to define large numbers. 4.445e8 is equal to 4.445 * 10 ** 8 which is equal to 444500000.0.\n",
    "\n",
    "# The current volume of a water reservoir (in cubic metres)\n",
    "reservoir_volume = 4.445e8\n",
    "# The amount of rainfall from a storm (in cubic metres)\n",
    "rainfall = 5e6\n",
    "\n",
    "# decrease the rainfall variable by 10% to account for runoff\n",
    "\n",
    "rainfall_dec = (rainfall) - (rainfall * 0.1)\n",
    "\n",
    "\n",
    "# add the rainfall variable to the reservoir_volume variable\n",
    "reservoir_volume =  reservoir_volume + rainfall\n",
    "\n",
    "\n",
    "\n",
    "# increase reservoir_volume by 5% to account for stormwater that flows into the reservoir in the days following the storm\n",
    "\n",
    "reservoir_volume = (reservoir_volume) + (reservoir_volume * 0.05 )\n",
    "\n",
    "\n",
    "# decrease reservoir_volume by 5% to account for evaporation\n",
    "\n",
    "reservoir_volume = (reservoir_volume) - (reservoir_volume * 0.05 )\n",
    " \n",
    "\n",
    "# subtract 2.5e5 cubic metres from reservoir_volume to account for water that's piped to arid regions.\n",
    "\n",
    "reservoir_volume = (reservoir_volume) - (2.5e5)\n",
    "\n",
    "\n",
    "\n",
    "# print the new value of the reservoir_volume variable\n",
    "print(reservoir_volume)"
   ]
  },
  {
   "cell_type": "code",
   "execution_count": 5,
   "metadata": {},
   "outputs": [
    {
     "name": "stdout",
     "output_type": "stream",
     "text": [
      "True. 3729.423433524516,san_francisco_pop_density is denser than 13265.533401849949 , rio_de_janeiro_pop_density.\n"
     ]
    }
   ],
   "source": [
    "#lab1 of 4\n",
    "sf_population, sf_area = 864816, 231.89\n",
    "rio_population, rio_area = 6453682, 486.5\n",
    "\n",
    "san_francisco_pop_density = sf_population/sf_area\n",
    "rio_de_janeiro_pop_density = rio_population/rio_area\n",
    "\n",
    "# Write code that prints True if San Francisco is denser than Rio, and False otherwise\n",
    "\n",
    "if san_francisco_pop_density  < rio_de_janeiro_pop_density:\n",
    "    print(\"True. {},san_francisco_pop_density is denser than {} , rio_de_janeiro_pop_density.\".format(san_francisco_pop_density, rio_de_janeiro_pop_density))\n",
    "else:\n",
    "    print(\"False {},san_francisco_pop_density is not denser than {}, rio_de_janeiro_pop_density.\".format(san_francisco_pop_density, rio_de_janeiro_pop_density))"
   ]
  },
  {
   "cell_type": "code",
   "execution_count": 6,
   "metadata": {},
   "outputs": [
    {
     "name": "stdout",
     "output_type": "stream",
     "text": [
      "Whether you think you can, or you think you can't--you're right.\n"
     ]
    }
   ],
   "source": [
    "\n",
    "#lab1 of 5\n",
    "#The line of code in the following quiz will cause a SyntaxError, thanks to the misuse of quotation marks. First run it with  to view the error message. Then resolve the problem so that the quote (from Henry Ford) is correctly assigned to the variable ford_quote.\n",
    "\n",
    "\n",
    "# TODO: Fix this string!\n",
    "\n",
    "ford_quote = \"Whether you think you can, or you think you can't--you're right.\"\n",
    "\n",
    "print(ford_quote)"
   ]
  },
  {
   "cell_type": "code",
   "execution_count": 7,
   "metadata": {},
   "outputs": [
    {
     "name": "stdout",
     "output_type": "stream",
     "text": [
      "Kinari accessed the site http://petshop.com/pets/mammals/cats at 04:50\n"
     ]
    }
   ],
   "source": [
    "#lab1 of 6\n",
    "username = \"Kinari\"\n",
    "timestamp = \"04:50\"\n",
    "url = \"http://petshop.com/pets/mammals/cats\"\n",
    "\n",
    "# TODO: print a log message using the variables above.\n",
    "# The message should have the same format as this one:\n",
    " # \"Yogesh accessed the site http://petshop.com/pets/reptiles/pythons at 16:20.\"\n",
    "\n",
    "print(f\"{username} accessed the site {url} at {timestamp}\")"
   ]
  },
  {
   "cell_type": "code",
   "execution_count": 8,
   "metadata": {},
   "outputs": [
    {
     "name": "stdout",
     "output_type": "stream",
     "text": [
      "length of full name is 18\n",
      "True\n"
     ]
    }
   ],
   "source": [
    "#lab1 of 7\n",
    "#Use string concatenation and the len() function to find the length of a certain movie star's actual full name. Store that length in the name_length variable. Don't forget that there are spaces in between the different parts of a name!\n",
    "\n",
    "given_name = \"William\"\n",
    "middle_names = \"Bradley\"\n",
    "family_name = \"Pitt\"\n",
    "\n",
    "name_length =   len(given_name + middle_names + family_name)\n",
    "\n",
    "print(f\"length of full name is {name_length}\")\n",
    "\n",
    "\n",
    "#todo: calculate how long this name is\n",
    "# Now we check to make sure that the name fits within the driving license character limit\n",
    "# Nothing you need to do here\n",
    "driving_license_character_limit = 28\n",
    "print(name_length <= driving_license_character_limit)"
   ]
  },
  {
   "cell_type": "code",
   "execution_count": 9,
   "metadata": {},
   "outputs": [
    {
     "name": "stdout",
     "output_type": "stream",
     "text": [
      "This week's total sales: 529.0\n"
     ]
    }
   ],
   "source": [
    "#lab1 of 8\n",
    "\n",
    "#In this quiz, you’ll need to change the types of the input and output data in order to get the result you want. Calculate and print the total sales for the week from the data provided. Print out a string of the form \"This week's total sales: xxx\", where xxx will be the actual total of all the numbers. You’ll need to change the type of the input data in order to calculate that total.\n",
    "\n",
    "mon_sales = \"121\"\n",
    "tues_sales = \"105\"\n",
    "wed_sales = \"110\"\n",
    "thurs_sales = \"98\"\n",
    "fri_sales = \"95\"\n",
    "\n",
    "mon_sales = float(mon_sales)\n",
    "tues_sales = float(tues_sales)\n",
    "wed_sales = float(wed_sales)\n",
    "thurs_sales = float (thurs_sales)\n",
    "fri_sales  = float(fri_sales)\n",
    "\n",
    "total_sales = mon_sales+tues_sales+wed_sales+thurs_sales+fri_sales\n",
    "#TODO: Print a string with this format: This week's total sales: xxx\n",
    "print(\"This week's total sales: {}\".format(total_sales))\n",
    "# You will probably need to write somoe lines of code before the print statement."
   ]
  },
  {
   "cell_type": "code",
   "execution_count": 10,
   "metadata": {},
   "outputs": [
    {
     "name": "stdout",
     "output_type": "stream",
     "text": [
      "I LOVE PYHTON\n",
      "i love python\n",
      "i love python\n"
     ]
    }
   ],
   "source": [
    "#lab1 of 9\n",
    "# Browse the complete list of string methods at:\n",
    "# https://docs.python.org/3/library/stdtypes.html#string-methods \n",
    "#and try them out here. Endeavor to copy the link without the first # comment sign beginning it.\n",
    "\n",
    "a = \"I love pyhton\".upper()\n",
    "print(a)\n",
    "\n",
    "b = 'I LOVE PYTHON'.casefold()\n",
    "print(b)\n",
    "\n",
    "c = 'I LOVE PYTHON'.lower()\n",
    "print(c)"
   ]
  },
  {
   "cell_type": "code",
   "execution_count": 11,
   "metadata": {},
   "outputs": [
    {
     "name": "stdout",
     "output_type": "stream",
     "text": [
      " Life of a data scientist is all about data.\n",
      "Every day is all about new insight\n"
     ]
    }
   ],
   "source": [
    "# Write two lines of code below, each assigning a value to a variable\n",
    "\n",
    "a = \" Life of a data scientist is all about data.\"\n",
    "b = \"Every day is all about new insight\"\n",
    "# Now write a print statement using .format() to print out a sentence and the \n",
    "#   values of both of the variables\n",
    "\n",
    "print(\"{}\\n{}\".format(a,b))"
   ]
  },
  {
   "cell_type": "code",
   "execution_count": 12,
   "metadata": {},
   "outputs": [],
   "source": [
    "\n",
    "#3. What is the index of the last occurrence of the word 'you' in verse?\n",
    "#4. What is the count of occurrences of the word 'you' in the verse?\n",
    "\n",
    "\n",
    "verse = \"If you can keep your head when all about you\\n  Are losing theirs and blaming it on you,\\nIf you can trust yourself when all men doubt you,\\n  But make allowance for their doubting too;\\nIf you can wait and not be tired by waiting,\\n  Or being lied about, don’t deal in lies,\\nOr being hated, don’t give way to hating,\\n  And yet don’t look too good, nor talk too wise:\"\n",
    "# print(verse)\n",
    "# #1. What is the length of the string variable verse?\n",
    "# verse_length = len(verse)\n",
    "# print(\"The length of verse is: {}\".format(verse_length))\n",
    "\n",
    "\n",
    "#2. What is the index of the first occurrence of the word 'and' in verse?\n",
    "\n",
    "\n",
    "# Use the appropriate functions and methods to answer the questions above\n",
    "# Bonus: practice using .format() to output your answers in descriptive messages!"
   ]
  }
 ],
 "metadata": {
  "kernelspec": {
   "display_name": "Python 3",
   "language": "python",
   "name": "python3"
  },
  "language_info": {
   "codemirror_mode": {
    "name": "ipython",
    "version": 3
   },
   "file_extension": ".py",
   "mimetype": "text/x-python",
   "name": "python",
   "nbconvert_exporter": "python",
   "pygments_lexer": "ipython3",
   "version": "3.7.4"
  }
 },
 "nbformat": 4,
 "nbformat_minor": 4
}
