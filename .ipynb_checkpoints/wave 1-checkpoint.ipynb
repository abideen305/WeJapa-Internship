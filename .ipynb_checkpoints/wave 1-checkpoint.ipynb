{
 "cells": [
  {
   "cell_type": "code",
   "execution_count": 24,
   "metadata": {},
   "outputs": [
    {
     "name": "stdout",
     "output_type": "stream",
     "text": [
      "39.666666666666664\n"
     ]
    }
   ],
   "source": [
    "#lab1\n",
    "#Quiz: Average Electricity Bill\n",
    "#It's time to try a calculation in Python!\n",
    "\n",
    "\n",
    "\n",
    "# Write an expression that calculates the average of 23, 32 and 64\n",
    "# Place the expression in this print statement\n",
    "\n",
    "a = 23\n",
    "b = 32\n",
    "c = 64\n",
    "d = (a+b+c) / 3\n",
    "print(d)"
   ]
  },
  {
   "cell_type": "code",
   "execution_count": 32,
   "metadata": {},
   "outputs": [
    {
     "ename": "TypeError",
     "evalue": "'int' object is not callable",
     "output_type": "error",
     "traceback": [
      "\u001b[1;31m---------------------------------------------------------------------------\u001b[0m",
      "\u001b[1;31mTypeError\u001b[0m                                 Traceback (most recent call last)",
      "\u001b[1;32m<ipython-input-32-efb69b8d062a>\u001b[0m in \u001b[0;36m<module>\u001b[1;34m\u001b[0m\n\u001b[0;32m     10\u001b[0m \u001b[1;31m# test cases for your function Dont change anything below this comment.\u001b[0m\u001b[1;33m\u001b[0m\u001b[1;33m\u001b[0m\u001b[1;33m\u001b[0m\u001b[0m\n\u001b[0;32m     11\u001b[0m \u001b[1;33m\u001b[0m\u001b[0m\n\u001b[1;32m---> 12\u001b[1;33m \u001b[0mtest1\u001b[0m \u001b[1;33m=\u001b[0m \u001b[0mpopulation_density\u001b[0m\u001b[1;33m(\u001b[0m\u001b[1;36m10\u001b[0m\u001b[1;33m,\u001b[0m \u001b[1;36m1\u001b[0m\u001b[1;33m)\u001b[0m\u001b[1;33m\u001b[0m\u001b[1;33m\u001b[0m\u001b[0m\n\u001b[0m\u001b[0;32m     13\u001b[0m \u001b[0mexpected_result1\u001b[0m \u001b[1;33m=\u001b[0m \u001b[1;36m10\u001b[0m\u001b[1;33m\u001b[0m\u001b[1;33m\u001b[0m\u001b[0m\n\u001b[0;32m     14\u001b[0m \u001b[0mprint\u001b[0m\u001b[1;33m(\u001b[0m\u001b[1;34m\"expected result: {}, actual result: {}\"\u001b[0m\u001b[1;33m.\u001b[0m\u001b[0mformat\u001b[0m\u001b[1;33m(\u001b[0m\u001b[0mexpected_result1\u001b[0m\u001b[1;33m,\u001b[0m \u001b[0mtest1\u001b[0m\u001b[1;33m)\u001b[0m\u001b[1;33m)\u001b[0m\u001b[1;33m\u001b[0m\u001b[1;33m\u001b[0m\u001b[0m\n",
      "\u001b[1;31mTypeError\u001b[0m: 'int' object is not callable"
     ]
    }
   ],
   "source": [
    "#lab1 of 2.1\n",
    "#Quiz: Assign and Modify Variables\n",
    "#Now it's your turn to work with variables. The comments in this quiz (the lines that begin with #) have instructions for creating and modifying variables. After each comment write a line of code that implements the instruction.\n",
    "\n",
    "#Note that this code uses scientific notation to define large numbers. 4.445e8 is equal to 4.445 * 10 ** 8 which is equal to 444500000.0.\n",
    "# Write your function here. Make sure to use \"population_density\" as the name of the fucntion. so, the test below works. \n",
    "\n",
    "def population_density():\n",
    "\n",
    "# test cases for your function Dont change anything below this comment.\n",
    "\n",
    "test1 = population_density(10, 1)\n",
    "expected_result1 = 10\n",
    "print(\"expected result: {}, actual result: {}\".format(expected_result1, test1))\n",
    "\n",
    "test2 = population_density(864816, 121.4)\n",
    "expected_result2 = 7123.6902801\n",
    "print(\"expected result: {}, actual result: {}\".format(expected_result2, test2))"
   ]
  },
  {
   "cell_type": "code",
   "execution_count": null,
   "metadata": {},
   "outputs": [],
   "source": [
    "#lab1 of 2\n",
    "#Quiz: Calculate\n",
    "#In this quiz you're going to do some calculations for a tiler. Two parts of a floor need tiling. One part is 9 tiles wide by 7 tiles long, the other is 5 tiles wide by 7 tiles long. Tiles come in packages of 6.\n",
    "\n",
    "#1. How many tiles are needed?\n",
    "#2. You buy 17 packages of tiles containing 6 tiles each. How many tiles will be left over?\n",
    "\n",
    "\n",
    "\n",
    "\n",
    "# Fill this in with an expression that calculates how many tiles are needed.\n",
    "print()\n",
    "\n",
    "# Fill this in with an expression that calculates how many tiles will be left over.\n",
    "print()"
   ]
  },
  {
   "cell_type": "code",
   "execution_count": 36,
   "metadata": {},
   "outputs": [
    {
     "name": "stdout",
     "output_type": "stream",
     "text": [
      "5000000.0 500000.0\n"
     ]
    }
   ],
   "source": [
    "#lab1 of 3\n",
    "#Note that this code uses scientific notation to define large numbers. 4.445e8 is equal to 4.445 * 10 ** 8 which is equal to 444500000.0.\n",
    "\n",
    "# The current volume of a water reservoir (in cubic metres)\n",
    "reservoir_volume = 4.445e8\n",
    "# The amount of rainfall from a storm (in cubic metres)\n",
    "rainfall = 5e6\n",
    "\n",
    "# decrease the rainfall variable by 10% to account for runoff\n",
    "\n",
    "rainfall_dec = rainfall * 0.1\n",
    "\n",
    "\n",
    "# add the rainfall variable to the reservoir_volume variable\n",
    "reservoir_volume + rainfall\n",
    "\n",
    "\n",
    "\n",
    "# increase reservoir_volume by 5% to account for stormwater that flows into the reservoir in the days following the storm\n",
    "\n",
    "\n",
    "\n",
    "\n",
    "# decrease reservoir_volume by 5% to account for evaporation\n",
    "\n",
    "\n",
    "\n",
    "\n",
    "# subtract 2.5e5 cubic metres from reservoir_volume to account for water that's piped to arid regions.\n",
    "\n",
    "\n",
    "\n",
    "\n",
    "\n",
    "# print the new value of the reservoir_volume variable"
   ]
  },
  {
   "cell_type": "code",
   "execution_count": null,
   "metadata": {},
   "outputs": [],
   "source": [
    "\n",
    "#lab1 of 4\n",
    "#Quiz: Calculate\n",
    "#In this quiz you're going to do some calculations for a tiler. Two parts of a floor need tiling. One part is 9 tiles wide by 7 tiles long, the other is 5 tiles wide by 7 tiles long. Tiles come in packages of 6.\n",
    "\n",
    "#1. How many tiles are needed?\n",
    "#2. You buy 17 packages of tiles containing 6 tiles each. How many tiles will be left over?\n",
    "\n",
    "\n",
    "\n",
    "\n",
    "# Fill this in with an expression that calculates how many tiles are needed.\n",
    "print()\n",
    "\n",
    "# Fill this in with an expression that calculates how many tiles will be left over.\n",
    "print()sf_population, sf_area = 864816, 231.89\n",
    "rio_population, rio_area = 6453682, 486.5\n",
    "\n",
    "san_francisco_pop_density = sf_population/sf_area\n",
    "rio_de_janeiro_pop_density = rio_population/rio_area\n",
    "\n",
    "# Write code that prints True if San Francisco is denser than Rio, and False otherwise\n",
    "\n"
   ]
  },
  {
   "cell_type": "code",
   "execution_count": 28,
   "metadata": {},
   "outputs": [
    {
     "name": "stdout",
     "output_type": "stream",
     "text": [
      "Whether you think you can, or you think you can't--you're right.\n"
     ]
    }
   ],
   "source": [
    "\n",
    "#lab1 of 5\n",
    "#The line of code in the following quiz will cause a SyntaxError, thanks to the misuse of quotation marks. First run it with  to view the error message. Then resolve the problem so that the quote (from Henry Ford) is correctly assigned to the variable ford_quote.\n",
    "\n",
    "\n",
    "# TODO: Fix this string!\n",
    "\n",
    "ford_quote = \"Whether you think you can, or you think you can't--you're right.\"\n",
    "\n",
    "print(ford_quote)"
   ]
  },
  {
   "cell_type": "code",
   "execution_count": 26,
   "metadata": {},
   "outputs": [
    {
     "name": "stdout",
     "output_type": "stream",
     "text": [
      "Kinari accessed the site http://petshop.com/pets/mammals/cats at 04:50\n"
     ]
    }
   ],
   "source": [
    "#lab1 of 6\n",
    "username = \"Kinari\"\n",
    "timestamp = \"04:50\"\n",
    "url = \"http://petshop.com/pets/mammals/cats\"\n",
    "\n",
    "# TODO: print a log message using the variables above.\n",
    "# The message should have the same format as this one:\n",
    " # \"Yogesh accessed the site http://petshop.com/pets/reptiles/pythons at 16:20.\"\n",
    "\n",
    "print(f\"{username} accessed the site {url} at {timestamp}\")"
   ]
  },
  {
   "cell_type": "code",
   "execution_count": 27,
   "metadata": {},
   "outputs": [
    {
     "name": "stdout",
     "output_type": "stream",
     "text": [
      "length of full name is 18\n",
      "True\n"
     ]
    }
   ],
   "source": [
    "#lab1 of 7\n",
    "#Use string concatenation and the len() function to find the length of a certain movie star's actual full name. Store that length in the name_length variable. Don't forget that there are spaces in between the different parts of a name!\n",
    "\n",
    "given_name = \"William\"\n",
    "middle_names = \"Bradley\"\n",
    "family_name = \"Pitt\"\n",
    "\n",
    "name_length =   len(given_name + middle_names + family_name)\n",
    "\n",
    "print(f\"length of full name is {name_length}\")\n",
    "\n",
    "\n",
    "#todo: calculate how long this name is\n",
    "# Now we check to make sure that the name fits within the driving license character limit\n",
    "# Nothing you need to do here\n",
    "driving_license_character_limit = 28\n",
    " print(name_length <= driving_license_character_limit)"
   ]
  },
  {
   "cell_type": "code",
   "execution_count": null,
   "metadata": {},
   "outputs": [],
   "source": [
    "#lab1 of 8\n",
    "\n",
    "#In this quiz, you’ll need to change the types of the input and output data in order to get the result you want. Calculate and print the total sales for the week from the data provided. Print out a string of the form \"This week's total sales: xxx\", where xxx will be the actual total of all the numbers. You’ll need to change the type of the input data in order to calculate that total.\n",
    "\n",
    "mon_sales = \"121\"\n",
    "tues_sales = \"105\"\n",
    "wed_sales = \"110\"\n",
    "thurs_sales = \"98\"\n",
    "fri_sales = \"95\"\n",
    "\n",
    "#TODO: Print a string with this format: This week's total sales: xxx\n",
    "# You will probably need to write some lines of code before the print statement."
   ]
  },
  {
   "cell_type": "code",
   "execution_count": null,
   "metadata": {},
   "outputs": [],
   "source": [
    "#lab1 of 9\n",
    "# Browse the complete list of string methods at:\n",
    "# https://docs.python.org/3/library/stdtypes.html#string-methods \n",
    "#and try them out here. Endeavor to copy the link without the first # comment sign beginning it."
   ]
  },
  {
   "cell_type": "code",
   "execution_count": null,
   "metadata": {},
   "outputs": [],
   "source": [
    "#lab2 of 1\n"
   ]
  },
  {
   "cell_type": "code",
   "execution_count": null,
   "metadata": {},
   "outputs": [],
   "source": []
  },
  {
   "cell_type": "code",
   "execution_count": null,
   "metadata": {},
   "outputs": [],
   "source": [
    "# Write two lines of code below, each assigning a value to a variable\n",
    "\n",
    "\n",
    "# Now write a print statement using .format() to print out a sentence and the \n",
    "#   values of both of the variables"
   ]
  },
  {
   "cell_type": "code",
   "execution_count": null,
   "metadata": {},
   "outputs": [],
   "source": [
    "#1. What is the length of the string variable verse?\n",
    "#2. What is the index of the first occurrence of the word 'and' in verse?\n",
    "#3. What is the index of the last occurrence of the word 'you' in verse?\n",
    "#4. What is the count of occurrences of the word 'you' in the verse?\n",
    "\n",
    "\n",
    "verse = \"If you can keep your head when all about you\\n  Are losing theirs and blaming it on you,\\nIf you can trust yourself when all men doubt you,\\n  But make allowance for their doubting too;\\nIf you can wait and not be tired by waiting,\\n  Or being lied about, don’t deal in lies,\\nOr being hated, don’t give way to hating,\\n  And yet don’t look too good, nor talk too wise:\"\n",
    "print(verse)\n",
    "\n",
    "# Use the appropriate functions and methods to answer the questions above\n",
    "# Bonus: practice using .format() to output your answers in descriptive messages!"
   ]
  },
  {
   "cell_type": "code",
   "execution_count": null,
   "metadata": {},
   "outputs": [],
   "source": [
    "#wave 2"
   ]
  },
  {
   "cell_type": "code",
   "execution_count": null,
   "metadata": {},
   "outputs": [],
   "source": [
    "#lab1 of 1\n",
    "#Quiz: List Indexing\n",
    "#Use list indexing to determine how many days are in a particular month based on the integer variable month, and store that value in the integer variable num_days. For example, if month is 8, num_days should be set to 31, since the eighth month, August, has 31 days.\n",
    "\n",
    "#Remember to account for zero-based indexing!\n",
    "\n",
    "\n",
    "\n",
    "month = 8\n",
    "days_in_month = [31,28,31,30,31,30,31,31,30,31,30,31]\n",
    "\n",
    "# use list indexing to determine the number of days in month\n",
    "\n",
    "\n",
    "print(num_days)"
   ]
  },
  {
   "cell_type": "code",
   "execution_count": null,
   "metadata": {},
   "outputs": [],
   "source": [
    "#Quiz: Slicing Lists\n",
    "#Select the three most recent dates from this list using list slicing notation. Hint: negative indexes work in slices!\n",
    "\n",
    "eclipse_dates = ['June 21, 2001', 'December 4, 2002', 'November 23, 2003',\n",
    "                 'March 29, 2006', 'August 1, 2008', 'July 22, 2009',\n",
    "                 'July 11, 2010', 'November 13, 2012', 'March 20, 2015',\n",
    "                 'March 9, 2016']\n",
    "                 \n",
    "                 \n",
    "# TODO: Modify this line so it prints the last three elements of the list\n",
    "print(eclipse_dates) "
   ]
  },
  {
   "cell_type": "code",
   "execution_count": null,
   "metadata": {},
   "outputs": [],
   "source": [
    "# Use this playground to experiment with list methods, using Test Run"
   ]
  },
  {
   "cell_type": "code",
   "execution_count": null,
   "metadata": {},
   "outputs": [],
   "source": [
    "# Define a Dictionary, population,\n",
    "# that provides information\n",
    "# on the world's largest cities.\n",
    "# The key is the name of a city\n",
    "# (a string), and the associated\n",
    "# value is its population in\n",
    "# millions of people.\n",
    "\n",
    "#   Key     |   Value\n",
    "# Shanghai  |   17.8\n",
    "# Istanbul  |   13.3\n",
    "# Karachi   |   13.0\n",
    "# Mumbai    |   12.5"
   ]
  },
  {
   "cell_type": "code",
   "execution_count": null,
   "metadata": {},
   "outputs": [],
   "source": [
    "elements = {'hydrogen': {'number': 1, 'weight': 1.00794, 'symbol': 'H'},\n",
    "            'helium': {'number': 2, 'weight': 4.002602, 'symbol': 'He'}}\n",
    "\n",
    "# todo: Add an 'is_noble_gas' entry to the hydrogen and helium dictionaries\n",
    "# hint: helium is a noble gas, hydrogen isn't\n",
    "#hint: After inserting the new entries you should be able to perform these lookups:\n",
    "\n",
    "#>>>print(elements['hydrogen']['is_noble_gas'])\n",
    "#<<< False\n",
    "#>>> print(elements['helium']['is_noble_gas'])\n",
    "#<<< True"
   ]
  },
  {
   "cell_type": "code",
   "execution_count": null,
   "metadata": {},
   "outputs": [],
   "source": [
    "#COUNT UNIQUE WORDS\n",
    "\n",
    "#Your task for this quiz is to find the number of unique words in the text. In the code editor below, complete these three steps to get your answer.\n",
    "#1. Split verse into a list of words. Hint: You can use a string method you learned in the previous lesson.\n",
    "#2. Convert the list into a data structure that would keep only the unique elements from the list.\n",
    "#3. Print the length of the container.\n",
    "\n",
    "verse = \"if you can keep your head when all about you are losing theirs and blaming it on you   if you can trust yourself when all men doubt you     but make allowance for their doubting too   if you can wait and not be tired by waiting      or being lied about  don’t deal in lies   or being hated  don’t give way to hating      and yet don’t look too good  nor talk too wise\"\n",
    "print(verse, '\\n')\n",
    "\n",
    "# split verse into list of words\n",
    "verse_list =\n",
    "print(verse_list, '\\n')\n",
    "\n",
    "# convert list to a data structure that stores unique elements\n",
    "verse_set =\n",
    "print(verse_set, '\\n')\n",
    "\n",
    "# print the number of unique words\n",
    "num_unique = \n",
    "print(num_unique, '\\n')"
   ]
  },
  {
   "cell_type": "code",
   "execution_count": null,
   "metadata": {},
   "outputs": [],
   "source": [
    "verse_dict =  {'if': 3, 'you': 6, 'can': 3, 'keep': 1, 'your': 1, 'head': 1, 'when': 2, 'all': 2, 'about': 2, 'are': 1, 'losing': 1, 'theirs': 1, 'and': 3, 'blaming': 1, 'it': 1, 'on': 1, 'trust': 1, 'yourself': 1, 'men': 1, 'doubt': 1, 'but': 1, 'make': 1, 'allowance': 1, 'for': 1, 'their': 1, 'doubting': 1, 'too': 3, 'wait': 1, 'not': 1, 'be': 1, 'tired': 1, 'by': 1, 'waiting': 1, 'or': 2, 'being': 2, 'lied': 1, 'don\\'t': 3, 'deal': 1, 'in': 1, 'lies': 1, 'hated': 1, 'give': 1, 'way': 1, 'to': 1, 'hating': 1, 'yet': 1, 'look': 1, 'good': 1, 'nor': 1, 'talk': 1, 'wise': 1}\n",
    "print(verse_dict, '\\n')\n",
    "\n",
    "# find number of unique keys in the dictionary\n",
    "num_keys = \n",
    "print(num_keys)\n",
    "\n",
    "# find whether 'breathe' is a key in the dictionary\n",
    "contains_breathe = \n",
    "print(contains_breathe)\n",
    "\n",
    "# create and sort a list of the dictionary's keys\n",
    "sorted_keys = \n",
    "\n",
    "# get the first element in the sorted list of keys\n",
    "print()\n",
    "\n",
    "# find the element with the highest value in the list of keys\n",
    "print() \n",
    "\n",
    "bonus_question_what_is_the_first_key_in_verse_dict =  "
   ]
  }
 ],
 "metadata": {
  "kernelspec": {
   "display_name": "Python 3",
   "language": "python",
   "name": "python3"
  },
  "language_info": {
   "codemirror_mode": {
    "name": "ipython",
    "version": 3
   },
   "file_extension": ".py",
   "mimetype": "text/x-python",
   "name": "python",
   "nbconvert_exporter": "python",
   "pygments_lexer": "ipython3",
   "version": "3.7.4"
  }
 },
 "nbformat": 4,
 "nbformat_minor": 4
}
